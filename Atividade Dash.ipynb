{
  "nbformat": 4,
  "nbformat_minor": 0,
  "metadata": {
    "colab": {
      "provenance": [],
      "authorship_tag": "ABX9TyPnBnq8DFQ0KVmfGbPSYnnn",
      "include_colab_link": true
    },
    "kernelspec": {
      "name": "python3",
      "display_name": "Python 3"
    },
    "language_info": {
      "name": "python"
    }
  },
  "cells": [
    {
      "cell_type": "markdown",
      "metadata": {
        "id": "view-in-github",
        "colab_type": "text"
      },
      "source": [
        "<a href=\"https://colab.research.google.com/github/RyujiChiba/Projetos/blob/main/Atividade%20Dash.ipynb\" target=\"_parent\"><img src=\"https://colab.research.google.com/assets/colab-badge.svg\" alt=\"Open In Colab\"/></a>"
      ]
    },
    {
      "cell_type": "code",
      "source": [
        "!pip install dash\n",
        "\n"
      ],
      "metadata": {
        "id": "w3wZpSKUY5jQ"
      },
      "execution_count": null,
      "outputs": []
    },
    {
      "cell_type": "code",
      "source": [
        "# Instale o Dash\n",
        "!pip install dash\n",
        "\n",
        "# Importe as bibliotecas necessárias\n",
        "import dash\n",
        "import dash_core_components as dcc\n",
        "import dash_html_components as html\n",
        "\n",
        "# Crie o aplicativo Dash\n",
        "app = dash.Dash(__name__)\n",
        "\n",
        "# Defina o layout do aplicativo\n",
        "app.layout = html.Div([\n",
        "    html.H1(\"Meu Primeiro Aplicativo Dash\"),\n",
        "    dcc.Graph(\n",
        "        figure={\n",
        "            \"data\": [\n",
        "                {\"x\": [1, 2, 3], \"y\": [4, 1, 2], \"type\": \"bar\", \"name\": \"SF\"},\n",
        "                {\"x\": [1, 2, 3], \"y\": [2, 4, 5], \"type\": \"bar\", \"name\": \"Montréal\"},\n",
        "            ],\n",
        "            \"layout\": {\"title\": \"Gráfico de Barras Simples\"},\n",
        "        }\n",
        "    ),\n",
        "])\n",
        "\n",
        "# Execute o aplicativo\n",
        "if __name__ == \"__main__\":\n",
        "    app.run_server(debug=True)\n"
      ],
      "metadata": {
        "id": "30aXXkSgY_K9"
      },
      "execution_count": null,
      "outputs": []
    }
  ]
}