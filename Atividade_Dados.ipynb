{
  "cells": [
    {
      "cell_type": "markdown",
      "metadata": {
        "id": "view-in-github",
        "colab_type": "text"
      },
      "source": [
        "<a href=\"https://colab.research.google.com/github/RyujiChiba/Projetos/blob/main/Atividade_Dados.ipynb\" target=\"_parent\"><img src=\"https://colab.research.google.com/assets/colab-badge.svg\" alt=\"Open In Colab\"/></a>"
      ]
    },
    {
      "cell_type": "code",
      "source": [
        "import numpy as np\n",
        "import random\n",
        "import pandas as pd\n",
        "import plotly.graph_objs as go\n",
        "import seaborn as sns\n",
        "import matplotlib.pyplot as plt\n",
        "import pandas_datareader.data as web\n",
        "import yfinance as yf\n",
        "yf.pdr_override()"
      ],
      "metadata": {
        "id": "7bjM-cyTSG8d"
      },
      "execution_count": null,
      "outputs": []
    },
    {
      "cell_type": "markdown",
      "source": [
        "1 ======================================="
      ],
      "metadata": {
        "id": "UFTmKYlogypA"
      }
    },
    {
      "cell_type": "code",
      "source": [
        "ativos = [\"NVAX\", \"TSM\", \"GME\", \"SOUN\", \"NVDA\"]\n",
        "data_inicial = \"2023-01-01\"\n",
        "data_final = \"2023-06-30\"\n",
        "tabela_cotacoes = web.get_data_yahoo(ativos, data_inicial, data_final)"
      ],
      "metadata": {
        "colab": {
          "base_uri": "https://localhost:8080/"
        },
        "id": "0r3mImCZSNB4",
        "outputId": "2f6dde3a-7f84-4974-cb92-9b3c1134e082"
      },
      "execution_count": null,
      "outputs": [
        {
          "output_type": "stream",
          "name": "stderr",
          "text": [
            "[*********************100%%**********************]  5 of 5 completed\n"
          ]
        }
      ]
    },
    {
      "cell_type": "code",
      "source": [
        "display(tabela_cotacoes)\n"
      ],
      "metadata": {
        "id": "4CRTEsO6SQIb"
      },
      "execution_count": null,
      "outputs": []
    },
    {
      "cell_type": "code",
      "source": [
        "tabela_cotacoes[\"Close\"].plot(figsize=(22,8));"
      ],
      "metadata": {
        "id": "Y_HqPI1RSVh7"
      },
      "execution_count": null,
      "outputs": []
    },
    {
      "cell_type": "markdown",
      "source": [
        "2==========================="
      ],
      "metadata": {
        "id": "PiVXyz0zin11"
      }
    },
    {
      "cell_type": "code",
      "source": [
        "ativos = [\"ADA-USD\", \"DOGE-USD\", \"SHIB-USD\", \"XRP-USD\", \"SOL-USD\", \"BNB-USD\", \"ETH-USD\", \"BTC-USD\", \"DOT-USD\", \"LINK-USD\"]\n",
        "data_inicial = \"2023-01-01\"\n",
        "data_final = \"2023-06-30\"\n",
        "tabela_cotacoes = web.get_data_yahoo(ativos, data_inicial, data_final)[\"Adj Close\"]\n",
        "tabela_cotacoes"
      ],
      "metadata": {
        "id": "WCzzqPX_SxeC"
      },
      "execution_count": null,
      "outputs": []
    },
    {
      "cell_type": "code",
      "source": [
        "tabela_cotacoes.dropna(inplace=True)\n",
        "tabela_cotacoes"
      ],
      "metadata": {
        "id": "ePbRoiS0S33i"
      },
      "execution_count": null,
      "outputs": []
    },
    {
      "cell_type": "code",
      "source": [
        "sns.set()\n",
        "tabela_cotacoes.plot(figsize=(18,8));"
      ],
      "metadata": {
        "id": "vXwGSl6dS6WC"
      },
      "execution_count": null,
      "outputs": []
    },
    {
      "cell_type": "code",
      "source": [
        "carteira_normalizada = (tabela_cotacoes / tabela_cotacoes.iloc[0])*10000\n",
        "#df.iloc[0] Selecionado a primeira linha do dataset\n",
        "carteira_normalizada.plot(figsize=(18,8));"
      ],
      "metadata": {
        "id": "fb39SaenS8wS"
      },
      "execution_count": null,
      "outputs": []
    },
    {
      "cell_type": "code",
      "source": [
        "carteira_normalizada[\"saldo\"] = carteira_normalizada.sum(axis=1)\n",
        "carteira_normalizada\n"
      ],
      "metadata": {
        "id": "O_hUQBenVA5O"
      },
      "execution_count": null,
      "outputs": []
    },
    {
      "cell_type": "code",
      "source": [
        "ibov = web.get_data_yahoo(\"^BVSP\", data_inicial, data_final)[\"Adj Close\"]"
      ],
      "metadata": {
        "colab": {
          "base_uri": "https://localhost:8080/"
        },
        "id": "9c9cE7rVS_xC",
        "outputId": "d87578a2-0dce-417a-eb55-1e3bd1535526"
      },
      "execution_count": null,
      "outputs": [
        {
          "output_type": "stream",
          "name": "stderr",
          "text": [
            "\r[*********************100%%**********************]  1 of 1 completed\n"
          ]
        }
      ]
    },
    {
      "cell_type": "code",
      "source": [
        "ibov_normalizado = (ibov / ibov.iloc[0])*20000\n",
        "ibov_normalizado"
      ],
      "metadata": {
        "id": "4jIxmuecTDwZ"
      },
      "execution_count": null,
      "outputs": []
    },
    {
      "cell_type": "code",
      "source": [
        "carteira_normalizada[\"saldo\"].plot(figsize=(18,8), label=\"Minha Carteira\")\n",
        "ibov_normalizado.plot(label=\"IBOV\")\n",
        "plt.legend();"
      ],
      "metadata": {
        "id": "_nHwU2C0TLO5"
      },
      "execution_count": null,
      "outputs": []
    },
    {
      "cell_type": "code",
      "source": [
        "tickers_ibov = \"ABEV3.SA, AZUL4.SA, B3SA3.SA, BBAS3.SA, BBDC3.SA, BBDC4.SA, BBSE3.SA, BPAC11.SA, BRAP4.SA, BRFS3.SA, BRKM5.SA, CCRO3.SA, CIEL3.SA\"\n",
        "dados_yahoo = yf.download(tickers=tickers_ibov, period='1y')[\"Adj Close\"]\n",
        "ibov = yf.download('BOVA11.SA', period='1y')[\"Adj Close\"]\n",
        "ibov = ibov / ibov.iloc[0]\n"
      ],
      "metadata": {
        "colab": {
          "base_uri": "https://localhost:8080/"
        },
        "id": "cVkAkiXaVE51",
        "outputId": "9e6f673c-f612-42dd-aad4-d7d1979f5d2a"
      },
      "execution_count": null,
      "outputs": [
        {
          "output_type": "stream",
          "name": "stderr",
          "text": [
            "[*********************100%%**********************]  13 of 13 completed\n",
            "[*********************100%%**********************]  1 of 1 completed\n"
          ]
        }
      ]
    },
    {
      "cell_type": "code",
      "source": [
        "retorno = dados_yahoo.pct_change()\n",
        "retorno\n"
      ],
      "metadata": {
        "id": "A46_EvLdVL0N"
      },
      "execution_count": null,
      "outputs": []
    },
    {
      "cell_type": "code",
      "source": [
        "retorno_acumulado = (1 + retorno).cumprod()\n",
        "retorno_acumulado.iloc[0] = 1\n",
        "retorno_acumulado"
      ],
      "metadata": {
        "id": "_Wdw-OsVVOKl"
      },
      "execution_count": null,
      "outputs": []
    },
    {
      "cell_type": "code",
      "source": [
        "carteira = random.sample(list(dados_yahoo.columns) , k=5)\n",
        "carteira = 10000 * retorno_acumulado.loc[: , carteira]\n",
        "carteira['saldo'] = carteira.sum(axis=1)\n",
        "carteira[\"retorno\"] = carteira['saldo'].pct_change()\n",
        "carteira"
      ],
      "metadata": {
        "id": "J7ol8A-6VQGc"
      },
      "execution_count": null,
      "outputs": []
    },
    {
      "cell_type": "code",
      "source": [
        "for i in range(500):\n",
        "    carteira = random.sample(list(dados_yahoo.columns) , k=5)\n",
        "    carteira = 10000 * retorno_acumulado.loc[: , carteira]\n",
        "    carteira['saldo'] = carteira.sum(axis=1)\n",
        "    carteira['saldo'].plot(figsize=(18,8))\n",
        "\n",
        "(ibov*50000).plot(linewidth=4, color='black')"
      ],
      "metadata": {
        "id": "1q26ag01VR8d"
      },
      "execution_count": null,
      "outputs": []
    },
    {
      "cell_type": "code",
      "source": [
        "def calcula_retorno(dataframe):\n",
        "    df = dataframe.copy()\n",
        "    df['daily_return'] = df.iloc[:,0].pct_change()\n",
        "    df['acum_return'] = (1 + df['daily_return']).cumprod()\n",
        "    df['acum_return'].iloc[0] = 1\n",
        "    df.rename(columns={df.columns[0]: \"price\" }, inplace=True)\n",
        "    return df"
      ],
      "metadata": {
        "id": "-3Jfi4yCVmXV"
      },
      "execution_count": null,
      "outputs": []
    },
    {
      "cell_type": "code",
      "source": [
        "ibov = yf.download('^BVSP', start='1995-01-01')[['Adj Close']]\n",
        "ibov = calcula_retorno(ibov)\n",
        "ibov"
      ],
      "metadata": {
        "id": "wqVp2NxoVsxU"
      },
      "execution_count": null,
      "outputs": []
    },
    {
      "cell_type": "code",
      "source": [
        "fig = go.Figure()\n",
        "fig.add_trace(go.Scatter(x=ibov.index, y=ibov['price']))\n",
        "fig.show()"
      ],
      "metadata": {
        "id": "HdOnU8G9VuoU"
      },
      "execution_count": null,
      "outputs": []
    },
    {
      "cell_type": "code",
      "source": [
        "ibov_melhores = ibov['daily_return'].sort_values(ascending=False)[:10]\n",
        "ibov_melhores"
      ],
      "metadata": {
        "id": "X1rH9ot7Vv7k"
      },
      "execution_count": null,
      "outputs": []
    },
    {
      "cell_type": "code",
      "source": [
        "ibov_piores = ibov['daily_return'].sort_values(ascending=True)[:10]\n",
        "ibov_piores"
      ],
      "metadata": {
        "id": "Jt4AomcmVxh0"
      },
      "execution_count": null,
      "outputs": []
    },
    {
      "cell_type": "code",
      "source": [
        "ibov_sem_melhores_dias = (1 + ibov['daily_return'].drop(ibov_melhores.index)).cumprod()\n",
        "ibov_sem_piores_dias = (1 + ibov['daily_return'].drop(ibov_piores.index)).cumprod()\n",
        "\n",
        "print(\"Retorno do IBOV desde 1995 :{:.2%}\".format(ibov['acum_return'].iloc[-1] - 1))\n",
        "print(\"Retorno do IBOV sem os 10 piores dias : {:.2%}\".format(ibov_sem_piores_dias.iloc[-1] - 1))\n",
        "print(\"Retorno do IBOV sem os 10 melhores dias: {:.2%}\".format(ibov_sem_melhores_dias.iloc[-1] - 1))\n"
      ],
      "metadata": {
        "id": "5hdsknl6XLWC"
      },
      "execution_count": null,
      "outputs": []
    },
    {
      "cell_type": "code",
      "source": [
        "fig = go.Figure()\n",
        "fig.add_trace(go.Scatter(x=ibov.index, y=ibov['acum_return'], name='IBOV'))\n",
        "fig.add_trace(go.Scatter(x=ibov_sem_melhores_dias.index,\n",
        "y=ibov_sem_melhores_dias.values,name='IBOV sem 10 melhores dias'))\n",
        "fig.add_trace(go.Scatter(x=ibov_sem_melhores_dias.index,\n",
        "y=ibov_sem_piores_dias.values, name='IBOV sem 10 piores dias'))\n",
        "fig.show()"
      ],
      "metadata": {
        "id": "FHAT-WZfX1yp"
      },
      "execution_count": null,
      "outputs": []
    },
    {
      "cell_type": "markdown",
      "source": [
        "3============================================================\n"
      ],
      "metadata": {
        "id": "OJqAQbs_d0n1"
      }
    },
    {
      "cell_type": "code",
      "source": [
        "ativos = [\"ADA-USD\", \"DOGE-USD\"]\n",
        "data_inicial = \"2023-01-01\"\n",
        "data_final = \"2023-06-30\"\n",
        "tabela_cotacoes = web.get_data_yahoo(ativos, data_inicial, data_final)[\"Adj Close\"]\n",
        "tabela_cotacoes"
      ],
      "metadata": {
        "id": "aI4RTp8Jl5GF"
      },
      "execution_count": null,
      "outputs": []
    },
    {
      "cell_type": "code",
      "source": [
        "tabela_cotacoes.dropna(inplace=True)\n",
        "tabela_cotacoes"
      ],
      "metadata": {
        "id": "KquOySiTmIjN"
      },
      "execution_count": null,
      "outputs": []
    },
    {
      "cell_type": "code",
      "source": [
        "sns.set()\n",
        "tabela_cotacoes.plot(figsize=(18,8));"
      ],
      "metadata": {
        "id": "PW9U1FRjmIgd"
      },
      "execution_count": null,
      "outputs": []
    },
    {
      "cell_type": "code",
      "source": [
        "carteira_normalizada = (tabela_cotacoes / tabela_cotacoes.iloc[0])*10000\n",
        "#df.iloc[0] Selecionado a primeira linha do dataset\n",
        "carteira_normalizada.plot(figsize=(18,8));"
      ],
      "metadata": {
        "id": "22jZ1dysmIXt"
      },
      "execution_count": null,
      "outputs": []
    },
    {
      "cell_type": "code",
      "source": [
        "carteira_normalizada[\"saldo\"] = carteira_normalizada.sum(axis=1)\n",
        "carteira_normalizada"
      ],
      "metadata": {
        "id": "rbRxnQoimQAt"
      },
      "execution_count": null,
      "outputs": []
    },
    {
      "cell_type": "code",
      "source": [
        "carteira_normalizada[\"saldo\"].plot(figsize=(18,8), label=\"Minha Carteira\")\n",
        "ibov_normalizado.plot(label=\"IBOV\")\n",
        "plt.legend();"
      ],
      "metadata": {
        "id": "cFSt_NFFmX9k"
      },
      "execution_count": null,
      "outputs": []
    },
    {
      "cell_type": "markdown",
      "source": [
        "4=======================================\n",
        "\n",
        "---\n",
        "\n"
      ],
      "metadata": {
        "id": "i7Vz_I3DhNzX"
      }
    },
    {
      "cell_type": "code",
      "source": [
        "ibov = web.get_data_yahoo(\"^BVSP\", data_inicial, data_final)[\"Adj Close\"]\n",
        "ibov_normalizado = (ibov / ibov.iloc[0])*20000\n",
        "ibov_normalizado"
      ],
      "metadata": {
        "id": "gHwru620ouGn"
      },
      "execution_count": null,
      "outputs": []
    },
    {
      "cell_type": "code",
      "source": [
        "SP500 = web.get_data_yahoo(\"^GSPC\", data_inicial, data_final)[\"Adj Close\"]\n",
        "SP500_normalizado = (SP500 / SP500.iloc[0])*20000\n",
        "SP500_normalizado"
      ],
      "metadata": {
        "id": "HXch1RjvoDWB"
      },
      "execution_count": null,
      "outputs": []
    },
    {
      "cell_type": "code",
      "source": [
        "carteira_normalizada[\"saldo\"].plot(figsize=(18,8), label=\"Minha Carteira\")\n",
        "SP500_normalizado.plot(label=\"SP500\")\n",
        "plt.legend();"
      ],
      "metadata": {
        "id": "a1ls90eQpGgw"
      },
      "execution_count": null,
      "outputs": []
    },
    {
      "cell_type": "code",
      "source": [
        "ibov_normalizado.plot(figsize=(18,8), label=\"Ibov\")\n",
        "SP500_normalizado.plot(label=\"SP500\")\n",
        "plt.legend();"
      ],
      "metadata": {
        "id": "NVFxSgMWpOEf"
      },
      "execution_count": null,
      "outputs": []
    }
  ],
  "metadata": {
    "colab": {
      "provenance": [],
      "include_colab_link": true
    },
    "kernelspec": {
      "display_name": "Python 3",
      "name": "python3"
    },
    "language_info": {
      "name": "python"
    }
  },
  "nbformat": 4,
  "nbformat_minor": 0
}