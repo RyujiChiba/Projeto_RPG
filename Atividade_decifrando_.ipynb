{
  "nbformat": 4,
  "nbformat_minor": 0,
  "metadata": {
    "colab": {
      "provenance": [],
      "authorship_tag": "ABX9TyNa1us93oiI98/Ut8y4SvJd",
      "include_colab_link": true
    },
    "kernelspec": {
      "name": "python3",
      "display_name": "Python 3"
    },
    "language_info": {
      "name": "python"
    }
  },
  "cells": [
    {
      "cell_type": "markdown",
      "metadata": {
        "id": "view-in-github",
        "colab_type": "text"
      },
      "source": [
        "<a href=\"https://colab.research.google.com/github/RyujiChiba/Projetos/blob/main/Atividade_decifrando_.ipynb\" target=\"_parent\"><img src=\"https://colab.research.google.com/assets/colab-badge.svg\" alt=\"Open In Colab\"/></a>"
      ]
    },
    {
      "cell_type": "code",
      "execution_count": null,
      "metadata": {
        "id": "mKdGMwMLEPvW"
      },
      "outputs": [],
      "source": [
        "\n",
        "texto = 'DIME'\n",
        "chave = 1\n",
        "modo = 'E'\n",
        "CARACTERES = 'ABCDEFGHIJKLMNOPQRSTUVWXYZ'\n",
        "convertido = ''\n",
        "texto = texto.upper()\n",
        "for caractere in texto:\n",
        "  if caractere in CARACTERES:\n",
        "    num = CARACTERES.find(caractere)\n",
        "    if modo == 'E':\n",
        "      num = num + chave\n",
        "      if modo == 'D':\n",
        "        num = num - chave\n",
        "      if num >= len(CARACTERES):\n",
        "        num = num - len(CARACTERES)\n",
        "      if num < 0:\n",
        "        num = num + len(CARACTERES)\n",
        "        convertido = convertido + CARACTERES[num]\n",
        "    else:\n",
        "      convertido= convertido + caractere\n",
        "  if modo == 'E':\n",
        "    print('O texto criptografado é ', convertido)\n",
        "  elif modo == 'D':\n",
        "    print('O texto decriptado é ', convertido)\n",
        "  else:\n",
        "    print('Opção inválida')\n"
      ]
    },
    {
      "cell_type": "code",
      "source": [
        "caracteres = 'abcdefghijklmnopqrstuvwxyz'\n",
        "rot1= str.maketrans(caracteres, caracteres[1:]+caracteres[0])\n",
        "\n",
        "# texto que sera decifrado Cpkh vukl zl lujvuayh wlykpkv uv tbukv\n",
        "mensagem= input().lower()\n",
        "\n",
        "for i in caracteres:\n",
        "    print(mensagem)\n",
        "    mensagem= mensagem.translate(rot1)\n",
        "\n",
        "\n"
      ],
      "metadata": {
        "id": "nSyqNT_dEVRW"
      },
      "execution_count": null,
      "outputs": []
    },
    {
      "cell_type": "code",
      "source": [
        "import hashlib"
      ],
      "metadata": {
        "id": "LSsJTJZBEVdv"
      },
      "execution_count": null,
      "outputs": []
    },
    {
      "cell_type": "code",
      "source": [
        "def open_txt(file):\n",
        "  with open(file) as f:\n",
        "    return \"\".join(f.read())\n",
        "\n",
        "\n",
        "\n",
        "file_1 = '/content/text_data/a.txt'\n",
        "file_2 = '/content/text_data/b.txt'\n",
        "text_1 = open_txt(file_1)\n",
        "text_2 = open_txt(file_2)\n",
        "\n",
        "\n",
        "def compare(text_1, text_2):\n",
        "  hash_1 = hashlib.md5()\n",
        "  hash_1.update(text_1.encode('utf-8'))\n",
        "  hash_1 = hash_1.hexdigest()\n",
        "  hash_2 = hashlib.md5()\n",
        "  hash_2.update(text_2.encode('utf-8'))\n",
        "  hash_2 = hash_2.hexdigest()\n",
        "  return hash_1, hash_2;\n",
        "\n",
        "hash = compare(text_1, text_2)\n",
        "print(hash[0])\n",
        "print(hash[1])\n"
      ],
      "metadata": {
        "id": "LRVz_ZOLEaBO"
      },
      "execution_count": null,
      "outputs": []
    },
    {
      "cell_type": "code",
      "source": [
        "import os\n",
        "\n",
        "def calculate_hash(file):\n",
        "  with open(file, 'rb') as f:\n",
        "    pasta = f.read()\n",
        "    return hashlib.md5(pasta).hexdigest()\n",
        "\n",
        "def find_identical_files(folder):\n",
        "  files = os.listdir(folder)\n",
        "  hashes = {}\n",
        "  arq_identicos = {}\n",
        "\n",
        "\n",
        "  for file in files:\n",
        "    path = os.path.join(folder, file)\n",
        "    hash_value = calculate_hash(path)\n",
        "\n",
        "\n",
        "    if hash_value in hashes:\n",
        "      arq_identicos[hash_value] = arq_identicos.get(hash_value, []) + [file, hashes[hash_value]]\n",
        "    else:\n",
        "      hashes[hash_value] = file\n",
        "\n",
        "\n",
        "  return arq_identicos\n",
        "\n",
        "\n",
        "folder = '/content/sample_data'\n",
        "arq_identicos = find_identical_files(folder)\n",
        "\n",
        "for hash_value, files in arq_identicos.items():\n",
        "  if len(files) > 1:\n",
        "    print(\"Arquivos idênticos:\", files)"
      ],
      "metadata": {
        "id": "wKkNrfKBEaGf"
      },
      "execution_count": null,
      "outputs": []
    },
    {
      "cell_type": "code",
      "source": [
        "pip install pycryptodome"
      ],
      "metadata": {
        "colab": {
          "base_uri": "https://localhost:8080/"
        },
        "id": "vCaOLOJuEaJ2",
        "outputId": "8ca7b7e1-ae2b-40ed-994c-93a153c31e03"
      },
      "execution_count": 1,
      "outputs": [
        {
          "output_type": "stream",
          "name": "stdout",
          "text": [
            "Collecting pycryptodome\n",
            "  Downloading pycryptodome-3.20.0-cp35-abi3-manylinux_2_17_x86_64.manylinux2014_x86_64.whl.metadata (3.4 kB)\n",
            "Downloading pycryptodome-3.20.0-cp35-abi3-manylinux_2_17_x86_64.manylinux2014_x86_64.whl (2.1 MB)\n",
            "\u001b[2K   \u001b[90m━━━━━━━━━━━━━━━━━━━━━━━━━━━━━━━━━━━━━━━━\u001b[0m \u001b[32m2.1/2.1 MB\u001b[0m \u001b[31m6.4 MB/s\u001b[0m eta \u001b[36m0:00:00\u001b[0m\n",
            "\u001b[?25hInstalling collected packages: pycryptodome\n",
            "Successfully installed pycryptodome-3.20.0\n"
          ]
        }
      ]
    },
    {
      "cell_type": "code",
      "source": [
        "from Crypto.PublicKey import RSA\n",
        "chave= RSA.generate(2048) # gera uma chave com 2048 bits\n",
        "chave_privada = chave.export_key()\n",
        "chave_publica = chave.publickey().export_key()\n",
        "\n",
        "from Crypto.Cipher import PKCS1_OAEP\n",
        "menssagem = b'hello word'\n",
        "chave_publica_obj = RSA.import_key(chave_publica)\n",
        "cifra = PKCS1_OAEP.new(chave_publica_obj)\n",
        "texto_encriptado = cifra.encrypt(menssagem)\n",
        "texto_encriptado"
      ],
      "metadata": {
        "colab": {
          "base_uri": "https://localhost:8080/"
        },
        "id": "gvRHVxxGEaMU",
        "outputId": "7d55554d-12c2-4f9e-f06c-c7b1270c70a8"
      },
      "execution_count": 4,
      "outputs": [
        {
          "output_type": "execute_result",
          "data": {
            "text/plain": [
              "b'\\xadx u^G\\xf7\\xbc\\x9b/\\x1f\\xf1\\xfb+\\xe4\\x8c\\x83)\\xa1jO\\xc1\\x04\\x1eQq\\xaeVqpx\\xe1\\r\\xc4.q\\x87e\\xb3R\\xd8\\xf7\\xc8\\x1e^\\xfa\\xcc\\x13\\x94\\x8f\\xa0\\xf99\\x1e\\x08\\xa18\\x03F\\xe2\\xbb9*\\xa10\\xf4$P\\xe38{\\xf1Y\\xf8(\\xac^Z\\x9d\"\\xc2>\\xc0\\x12\\x92\\xf9\\xaa\\x98\\xfc\\xe4\\xa3{n\\x96\\xe32\\xfe&\\xe7VN-\\x87\\xa4\\xae;\\xc8\\x01\\x02\\xe4\\x18P\\xa8\\'2\\xee\\xfdF\\xd3\\xe9\\xf7\\xe3h\\xd8.B\\x93Q:\\xbfr\\xd6\\xbcO\\xf6\\xeaJr\\x89IW\\x00p\\xf7h\\xbcB\\xf7\\xfd\\'/\\xb2\\x8d\"\\xed\\xd7gb\\xe6\\xff\\x84h8\\xedmSrv\\xe9V\\x0b\\x93gH3\\xe6E\\xb9o\\x93\\'f\\xbb6P\\xf5|\\x12\\x1b0\\x89g\\xa9\\xfa\\xa0CwO>Nr\\xe7K>\\xd8,\\xdc\\x8cR\\x8f\\xde\\xe2\\xfa\\x10\\xdd\\xbc:<\\x92}\\x05#\\x99\\xde\\xf6fW\\xb0\\x8ew;*\\x92p\\xc3~\\x85\\x14[\\x9fJ\\xc1\\xad\\xb3\\xac\\xb7D\\x95\\xf5\\x0cAF@i\\x16\\xa7'"
            ]
          },
          "metadata": {},
          "execution_count": 4
        }
      ]
    },
    {
      "cell_type": "markdown",
      "source": [
        "RSA Permite a pessoa codificar um texto para dificultar o acesso as informações contidas somento poderia ter a acesso com uma chave privada ou decodificado."
      ],
      "metadata": {
        "id": "fZwM4ctqEj7a"
      }
    },
    {
      "cell_type": "code",
      "source": [
        "import string\n",
        "from itertools import product\n",
        "from time import time\n",
        "from numpy import loadtxt\n",
        "\n",
        "def product_loop(password, generator):\n",
        "  for p in generator:\n",
        "    if ''.join(p) == password:\n",
        "      print('\\nSenha:', ''.join(p))\n",
        "      return ''.join(p)\n",
        "  return False\n",
        "\n",
        "def bruteforce(password, max_nchar=8):\n",
        "  print('1) Comparando com as senhas mais comuns e nomes iniciais/ do meio')\n",
        "  common_names = loadtxt('/content/nomes_meio.txt', dtype=str)\n",
        "  common_pass = loadtxt('/content/dicionario_senhas.txt', dtype=str)\n",
        "  cp = [c for c in common_pass if c == password]\n",
        "  cn = [c for c in common_names if c == password]\n",
        "  cnl = [c.lower() for c in common_names if c.lower() == password]\n",
        "\n",
        "  if len(cp) == 1:\n",
        "    print('\\nSenha:', cp)\n",
        "    return cp\n",
        "  if len(cn) == 1:\n",
        "    print('\\nSenha:', cn)\n",
        "    return cn\n",
        "  if len(cnl) == 1:\n",
        "    print('\\nSenha:', cnl)\n",
        "    return cnl\n",
        "\n",
        "  print('2) Senhas com números')\n",
        "  for l in range(1, 9):\n",
        "    generator = product(string.digits, repeat=int(l))\n",
        "    print(\"\\t..%d digito\" % l)\n",
        "    p = product_loop(password, generator)\n",
        "    if p is not False:\n",
        "      return p\n",
        "\n",
        "  print('3) Digitos ASCII')\n",
        "  for l in range(1, max_nchar + 1):\n",
        "    print(\"\\t..%d caracter\" % l)\n",
        "    generator = product(string.digits + string.ascii_lowercase, repeat=int(l))\n",
        "    p = product_loop(password, generator)\n",
        "    if p is not False:\n",
        "      return p\n",
        "\n",
        "  print('4) Digitos + ASCII maiúsculo / minúsculo + pontuação')\n",
        "  all_char = string.digits + string.ascii_letters + string.punctuation\n",
        "\n",
        "  for l in range(1, max_nchar + 1):\n",
        "    print(\"\\t..%d char\" % l)\n",
        "    generator = product(all_char, repeat=int(l))\n",
        "    p = product_loop(password, generator)\n",
        "    if p is not False:\n",
        "      return p\n",
        "\n",
        "start = time()\n",
        "bruteforce('1234567')\n",
        "end = time()\n",
        "print('Total time: %.2f seconds' % (end - start))"
      ],
      "metadata": {
        "id": "whVU1WRxEpa2"
      },
      "execution_count": null,
      "outputs": []
    },
    {
      "cell_type": "code",
      "source": [],
      "metadata": {
        "id": "7LmURa1OErIR"
      },
      "execution_count": null,
      "outputs": []
    }
  ]
}